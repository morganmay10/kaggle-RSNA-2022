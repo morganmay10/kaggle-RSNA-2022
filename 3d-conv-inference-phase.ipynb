{
 "cells": [
  {
   "cell_type": "markdown",
   "id": "a9a5cbaf",
   "metadata": {
    "papermill": {
     "duration": 0.005341,
     "end_time": "2022-10-23T12:25:42.344071",
     "exception": false,
     "start_time": "2022-10-23T12:25:42.338730",
     "status": "completed"
    },
    "tags": []
   },
   "source": [
    "# Setting up :"
   ]
  },
  {
   "cell_type": "markdown",
   "id": "51abfe6d",
   "metadata": {
    "papermill": {
     "duration": 0.00396,
     "end_time": "2022-10-23T12:25:42.352371",
     "exception": false,
     "start_time": "2022-10-23T12:25:42.348411",
     "status": "completed"
    },
    "tags": []
   },
   "source": [
    "## Importing librairies :"
   ]
  },
  {
   "cell_type": "code",
   "execution_count": 1,
   "id": "32eb7927",
   "metadata": {
    "execution": {
     "iopub.execute_input": "2022-10-23T12:25:42.363149Z",
     "iopub.status.busy": "2022-10-23T12:25:42.362318Z",
     "iopub.status.idle": "2022-10-23T12:26:27.175051Z",
     "shell.execute_reply": "2022-10-23T12:26:27.172969Z"
    },
    "papermill": {
     "duration": 44.821375,
     "end_time": "2022-10-23T12:26:27.177951",
     "exception": false,
     "start_time": "2022-10-23T12:25:42.356576",
     "status": "completed"
    },
    "tags": []
   },
   "outputs": [
    {
     "name": "stdout",
     "output_type": "stream",
     "text": [
      "Looking in links: /kaggle/input/notebook-to-download-packages\n",
      "Processing /kaggle/input/notebook-to-download-packages/python_gdcm-3.0.19-cp37-cp37m-manylinux_2_17_x86_64.manylinux2014_x86_64.whl\n",
      "Installing collected packages: python-gdcm\n",
      "Successfully installed python-gdcm-3.0.19\n"
     ]
    },
    {
     "name": "stderr",
     "output_type": "stream",
     "text": [
      "WARNING: Running pip as the 'root' user can result in broken permissions and conflicting behaviour with the system package manager. It is recommended to use a virtual environment instead: https://pip.pypa.io/warnings/venv\n"
     ]
    },
    {
     "name": "stdout",
     "output_type": "stream",
     "text": [
      "Looking in links: /kaggle/input/notebook-to-download-packages\n",
      "Processing /kaggle/input/notebook-to-download-packages/pylibjpeg-1.4.0-py3-none-any.whl\n",
      "Requirement already satisfied: numpy in /opt/conda/lib/python3.7/site-packages (from pylibjpeg) (1.21.6)\n",
      "Installing collected packages: pylibjpeg\n",
      "Successfully installed pylibjpeg-1.4.0\n"
     ]
    },
    {
     "name": "stderr",
     "output_type": "stream",
     "text": [
      "WARNING: Running pip as the 'root' user can result in broken permissions and conflicting behaviour with the system package manager. It is recommended to use a virtual environment instead: https://pip.pypa.io/warnings/venv\n"
     ]
    },
    {
     "name": "stdout",
     "output_type": "stream",
     "text": [
      "Looking in links: /kaggle/input/notebook-to-download-packages\n",
      "Processing /kaggle/input/notebook-to-download-packages/pylibjpeg_libjpeg-1.3.2-cp37-cp37m-manylinux_2_17_x86_64.manylinux2014_x86_64.whl\n",
      "Requirement already satisfied: numpy>=1.20 in /opt/conda/lib/python3.7/site-packages (from pylibjpeg-libjpeg) (1.21.6)\n",
      "Installing collected packages: pylibjpeg-libjpeg\n",
      "Successfully installed pylibjpeg-libjpeg-1.3.2\n"
     ]
    },
    {
     "name": "stderr",
     "output_type": "stream",
     "text": [
      "WARNING: Running pip as the 'root' user can result in broken permissions and conflicting behaviour with the system package manager. It is recommended to use a virtual environment instead: https://pip.pypa.io/warnings/venv\n"
     ]
    },
    {
     "name": "stdout",
     "output_type": "stream",
     "text": [
      "Looking in links: /kaggle/input/notebook-to-download-packages\n",
      "Requirement already satisfied: pydicom in /opt/conda/lib/python3.7/site-packages (2.3.0)\n"
     ]
    },
    {
     "name": "stderr",
     "output_type": "stream",
     "text": [
      "WARNING: Running pip as the 'root' user can result in broken permissions and conflicting behaviour with the system package manager. It is recommended to use a virtual environment instead: https://pip.pypa.io/warnings/venv\n"
     ]
    },
    {
     "name": "stdout",
     "output_type": "stream",
     "text": [
      "Looking in links: /kaggle/input/notebook-to-download-packages\n",
      "Processing /kaggle/input/notebook-to-download-packages/livelossplot-0.5.5-py3-none-any.whl\n",
      "Requirement already satisfied: numpy<1.22 in /opt/conda/lib/python3.7/site-packages (from livelossplot) (1.21.6)\n",
      "Requirement already satisfied: matplotlib in /opt/conda/lib/python3.7/site-packages (from livelossplot) (3.5.3)\n",
      "Requirement already satisfied: bokeh in /opt/conda/lib/python3.7/site-packages (from livelossplot) (2.4.3)\n",
      "Requirement already satisfied: ipython==7.* in /opt/conda/lib/python3.7/site-packages (from livelossplot) (7.33.0)\n",
      "Requirement already satisfied: prompt-toolkit!=3.0.0,!=3.0.1,<3.1.0,>=2.0.0 in /opt/conda/lib/python3.7/site-packages (from ipython==7.*->livelossplot) (3.0.30)\n",
      "Requirement already satisfied: matplotlib-inline in /opt/conda/lib/python3.7/site-packages (from ipython==7.*->livelossplot) (0.1.3)\n",
      "Requirement already satisfied: pexpect>4.3 in /opt/conda/lib/python3.7/site-packages (from ipython==7.*->livelossplot) (4.8.0)\n",
      "Requirement already satisfied: jedi>=0.16 in /opt/conda/lib/python3.7/site-packages (from ipython==7.*->livelossplot) (0.18.1)\n",
      "Requirement already satisfied: pygments in /opt/conda/lib/python3.7/site-packages (from ipython==7.*->livelossplot) (2.12.0)\n",
      "Requirement already satisfied: pickleshare in /opt/conda/lib/python3.7/site-packages (from ipython==7.*->livelossplot) (0.7.5)\n",
      "Requirement already satisfied: decorator in /opt/conda/lib/python3.7/site-packages (from ipython==7.*->livelossplot) (5.1.1)\n",
      "Requirement already satisfied: traitlets>=4.2 in /opt/conda/lib/python3.7/site-packages (from ipython==7.*->livelossplot) (5.3.0)\n",
      "Requirement already satisfied: setuptools>=18.5 in /opt/conda/lib/python3.7/site-packages (from ipython==7.*->livelossplot) (59.8.0)\n",
      "Requirement already satisfied: backcall in /opt/conda/lib/python3.7/site-packages (from ipython==7.*->livelossplot) (0.2.0)\n",
      "Requirement already satisfied: pillow>=7.1.0 in /opt/conda/lib/python3.7/site-packages (from bokeh->livelossplot) (9.1.1)\n",
      "Requirement already satisfied: packaging>=16.8 in /opt/conda/lib/python3.7/site-packages (from bokeh->livelossplot) (21.3)\n",
      "Requirement already satisfied: tornado>=5.1 in /opt/conda/lib/python3.7/site-packages (from bokeh->livelossplot) (6.1)\n",
      "Requirement already satisfied: Jinja2>=2.9 in /opt/conda/lib/python3.7/site-packages (from bokeh->livelossplot) (3.1.2)\n",
      "Requirement already satisfied: PyYAML>=3.10 in /opt/conda/lib/python3.7/site-packages (from bokeh->livelossplot) (6.0)\n",
      "Requirement already satisfied: typing-extensions>=3.10.0 in /opt/conda/lib/python3.7/site-packages (from bokeh->livelossplot) (4.1.1)\n",
      "Requirement already satisfied: python-dateutil>=2.7 in /opt/conda/lib/python3.7/site-packages (from matplotlib->livelossplot) (2.8.2)\n",
      "Requirement already satisfied: fonttools>=4.22.0 in /opt/conda/lib/python3.7/site-packages (from matplotlib->livelossplot) (4.33.3)\n",
      "Requirement already satisfied: pyparsing>=2.2.1 in /opt/conda/lib/python3.7/site-packages (from matplotlib->livelossplot) (3.0.9)\n",
      "Requirement already satisfied: cycler>=0.10 in /opt/conda/lib/python3.7/site-packages (from matplotlib->livelossplot) (0.11.0)\n",
      "Requirement already satisfied: kiwisolver>=1.0.1 in /opt/conda/lib/python3.7/site-packages (from matplotlib->livelossplot) (1.4.3)\n",
      "Requirement already satisfied: parso<0.9.0,>=0.8.0 in /opt/conda/lib/python3.7/site-packages (from jedi>=0.16->ipython==7.*->livelossplot) (0.8.3)\n",
      "Requirement already satisfied: MarkupSafe>=2.0 in /opt/conda/lib/python3.7/site-packages (from Jinja2>=2.9->bokeh->livelossplot) (2.1.1)\n",
      "Requirement already satisfied: ptyprocess>=0.5 in /opt/conda/lib/python3.7/site-packages (from pexpect>4.3->ipython==7.*->livelossplot) (0.7.0)\n",
      "Requirement already satisfied: wcwidth in /opt/conda/lib/python3.7/site-packages (from prompt-toolkit!=3.0.0,!=3.0.1,<3.1.0,>=2.0.0->ipython==7.*->livelossplot) (0.2.5)\n",
      "Requirement already satisfied: six>=1.5 in /opt/conda/lib/python3.7/site-packages (from python-dateutil>=2.7->matplotlib->livelossplot) (1.15.0)\n",
      "Installing collected packages: livelossplot\n",
      "Successfully installed livelossplot-0.5.5\n"
     ]
    },
    {
     "name": "stderr",
     "output_type": "stream",
     "text": [
      "WARNING: Running pip as the 'root' user can result in broken permissions and conflicting behaviour with the system package manager. It is recommended to use a virtual environment instead: https://pip.pypa.io/warnings/venv\n"
     ]
    }
   ],
   "source": [
    "# Importing librairies unable to download directly as the internet is disabled :\n",
    "\n",
    "import pkgutil\n",
    "check_module = True if pkgutil.find_loader(\"hydra\") else False\n",
    "if not check_module:\n",
    "    import subprocess    \n",
    "    subprocess.run('python -m pip install --no-index --find-links=/kaggle/input/notebook-to-download-packages python-gdcm'.split())\n",
    "    subprocess.run('python -m pip install --no-index --find-links=/kaggle/input/notebook-to-download-packages pylibjpeg'.split())\n",
    "    subprocess.run('python -m pip install --no-index --find-links=/kaggle/input/notebook-to-download-packages pylibjpeg-libjpeg'.split())\n",
    "    subprocess.run('python -m pip install --no-index --find-links=/kaggle/input/notebook-to-download-packages pydicom'.split())    \n",
    "    subprocess.run('python -m pip install --no-index --find-links=/kaggle/input/notebook-to-download-packages livelossplot'.split())    \n",
    "else:\n",
    "    print(\"Environment is already setup\")\n",
    "\n",
    "del check_module"
   ]
  },
  {
   "cell_type": "code",
   "execution_count": 2,
   "id": "f45845dc",
   "metadata": {
    "execution": {
     "iopub.execute_input": "2022-10-23T12:26:27.190235Z",
     "iopub.status.busy": "2022-10-23T12:26:27.189915Z",
     "iopub.status.idle": "2022-10-23T12:26:32.227120Z",
     "shell.execute_reply": "2022-10-23T12:26:32.226196Z"
    },
    "papermill": {
     "duration": 5.046174,
     "end_time": "2022-10-23T12:26:32.229667",
     "exception": false,
     "start_time": "2022-10-23T12:26:27.183493",
     "status": "completed"
    },
    "tags": []
   },
   "outputs": [],
   "source": [
    "import os\n",
    "import glob\n",
    "import gc\n",
    "\n",
    "import numpy as np\n",
    "import pandas as pd\n",
    "from scipy import ndimage\n",
    "\n",
    "from joblib import Parallel, delayed\n",
    "from tqdm.notebook import tqdm\n",
    "\n",
    "import pydicom as dicom\n",
    "import gdcm\n",
    "\n",
    "import tensorflow as tf\n",
    "from tensorflow import keras\n",
    "from livelossplot import PlotLossesKeras"
   ]
  },
  {
   "cell_type": "markdown",
   "id": "0afa70cc",
   "metadata": {
    "papermill": {
     "duration": 0.005509,
     "end_time": "2022-10-23T12:26:32.240986",
     "exception": false,
     "start_time": "2022-10-23T12:26:32.235477",
     "status": "completed"
    },
    "tags": []
   },
   "source": [
    "## Defining useful features and pathes :"
   ]
  },
  {
   "cell_type": "code",
   "execution_count": 3,
   "id": "3845983b",
   "metadata": {
    "execution": {
     "iopub.execute_input": "2022-10-23T12:26:32.254589Z",
     "iopub.status.busy": "2022-10-23T12:26:32.252787Z",
     "iopub.status.idle": "2022-10-23T12:26:32.259833Z",
     "shell.execute_reply": "2022-10-23T12:26:32.258974Z"
    },
    "papermill": {
     "duration": 0.015188,
     "end_time": "2022-10-23T12:26:32.261793",
     "exception": false,
     "start_time": "2022-10-23T12:26:32.246605",
     "status": "completed"
    },
    "tags": []
   },
   "outputs": [],
   "source": [
    "## Defining each useful path :\n",
    "\n",
    "# Where the original images are :\n",
    "TRAIN_IMAGES_PATH = '/kaggle/input/rsna-2022-cervical-spine-fracture-detection/train_images/'\n",
    "TEST_IMAGES_PATH = '/kaggle/input/rsna-2022-cervical-spine-fracture-detection/test_images/'\n",
    "\n",
    "# Pathes of the dataframes :\n",
    "TRAIN_CSV_PATH = '/kaggle/input/rsna-2022-cervical-spine-fracture-detection/train.csv'\n",
    "TEST_CSV_PATH = '/kaggle/input/rsna-2022-cervical-spine-fracture-detection/test.csv'\n",
    "\n",
    "# Where we are going to save the preprocessed data :\n",
    "TEST_OUTPUT_PATH = './test_arrays/'\n",
    "if not os.path.exists(TEST_OUTPUT_PATH): os.mkdir(TEST_OUTPUT_PATH)  \n",
    "    \n",
    "# Where the trained model is :\n",
    "MODEL_PATH = \"/kaggle/input/3d-conv-training-phase\""
   ]
  },
  {
   "cell_type": "code",
   "execution_count": 4,
   "id": "368bf00e",
   "metadata": {
    "execution": {
     "iopub.execute_input": "2022-10-23T12:26:32.273634Z",
     "iopub.status.busy": "2022-10-23T12:26:32.273362Z",
     "iopub.status.idle": "2022-10-23T12:26:32.340000Z",
     "shell.execute_reply": "2022-10-23T12:26:32.339062Z"
    },
    "papermill": {
     "duration": 0.075389,
     "end_time": "2022-10-23T12:26:32.342541",
     "exception": false,
     "start_time": "2022-10-23T12:26:32.267152",
     "status": "completed"
    },
    "tags": []
   },
   "outputs": [],
   "source": [
    "## Defining useful features :\n",
    "\n",
    "# Defining desired width and depth of the output arrays :\n",
    "\n",
    "desired_width = 64\n",
    "desired_height = 64\n",
    "desired_depth = 64\n",
    "\n",
    "# Putting images paths into lists : \n",
    "\n",
    "train_images = os.listdir(TRAIN_IMAGES_PATH)\n",
    "test_images = os.listdir(TEST_IMAGES_PATH)\n",
    "\n",
    "# Reading dataframes :\n",
    "\n",
    "train_df = pd.read_csv(TRAIN_CSV_PATH)\n",
    "test_df = pd.read_csv(TEST_CSV_PATH)\n"
   ]
  },
  {
   "cell_type": "markdown",
   "id": "afafb9e1",
   "metadata": {
    "papermill": {
     "duration": 0.005518,
     "end_time": "2022-10-23T12:26:32.353651",
     "exception": false,
     "start_time": "2022-10-23T12:26:32.348133",
     "status": "completed"
    },
    "tags": []
   },
   "source": [
    "# Loading and transforming test images into 3D volumes :"
   ]
  },
  {
   "cell_type": "code",
   "execution_count": 5,
   "id": "f14d3dd5",
   "metadata": {
    "execution": {
     "iopub.execute_input": "2022-10-23T12:26:32.365667Z",
     "iopub.status.busy": "2022-10-23T12:26:32.364865Z",
     "iopub.status.idle": "2022-10-23T12:26:32.370606Z",
     "shell.execute_reply": "2022-10-23T12:26:32.369690Z"
    },
    "papermill": {
     "duration": 0.013991,
     "end_time": "2022-10-23T12:26:32.372762",
     "exception": false,
     "start_time": "2022-10-23T12:26:32.358771",
     "status": "completed"
    },
    "tags": []
   },
   "outputs": [],
   "source": [
    "### Creating a function to load dicom files, even if compressed :\n",
    "\n",
    "def load_dicom(path: str):\n",
    "    \"\"\"Load a dicom file (.dcm) even if it is compressed.\"\"\"\n",
    "    try:\n",
    "        file_as_array = dicom.dcmread(path).pixel_array\n",
    "    except:\n",
    "        decompressed_file = gdcm.ImageReader().SetFileName(path).Read()\n",
    "        file_as_array = decompressed_file.pixel_array\n",
    "    return(file_as_array)"
   ]
  },
  {
   "cell_type": "code",
   "execution_count": 6,
   "id": "003ba361",
   "metadata": {
    "execution": {
     "iopub.execute_input": "2022-10-23T12:26:32.384111Z",
     "iopub.status.busy": "2022-10-23T12:26:32.383849Z",
     "iopub.status.idle": "2022-10-23T12:26:32.390369Z",
     "shell.execute_reply": "2022-10-23T12:26:32.389437Z"
    },
    "papermill": {
     "duration": 0.014451,
     "end_time": "2022-10-23T12:26:32.392331",
     "exception": false,
     "start_time": "2022-10-23T12:26:32.377880",
     "status": "completed"
    },
    "tags": []
   },
   "outputs": [],
   "source": [
    "# Creating the preprocessing function including loading dicom normalization and resize :\n",
    "\n",
    "def preprocessing_slice(slice_path: str):\n",
    "    \"\"\"Load dicom of a slice, normalize and resize it\"\"\"\n",
    "    # Loading dicom :\n",
    "    slice_array = load_dicom(slice_path)\n",
    "    slice_array = slice_array.astype(np.uint8)\n",
    "    \n",
    "    # Normalization :\n",
    "    slice_array = slice_array - np.min(slice_array)\n",
    "    if np.max(slice_array) != 0:\n",
    "        slice_array = slice_array / np.max(slice_array)\n",
    "    slice_array = (slice_array * 255).astype(np.uint8)\n",
    "        \n",
    "    # Resize (2D) :  \n",
    "    width_factor = desired_width / slice_array.shape[0]\n",
    "    height_factor = desired_height / slice_array.shape[1]\n",
    "    \n",
    "    slice_array = ndimage.zoom(slice_array, (width_factor, height_factor), order=3) # resize with spline interpolation of order 3\n",
    "    \n",
    "    return(slice_array)"
   ]
  },
  {
   "cell_type": "code",
   "execution_count": 7,
   "id": "ba0ba496",
   "metadata": {
    "execution": {
     "iopub.execute_input": "2022-10-23T12:26:32.405261Z",
     "iopub.status.busy": "2022-10-23T12:26:32.404968Z",
     "iopub.status.idle": "2022-10-23T12:26:32.410607Z",
     "shell.execute_reply": "2022-10-23T12:26:32.409577Z"
    },
    "papermill": {
     "duration": 0.014272,
     "end_time": "2022-10-23T12:26:32.412861",
     "exception": false,
     "start_time": "2022-10-23T12:26:32.398589",
     "status": "completed"
    },
    "tags": []
   },
   "outputs": [],
   "source": [
    "def resize_depth(numpy_volume: np.array, desired_depth=desired_depth):\n",
    "    \"\"\"Resize across z-axis\"\"\"\n",
    "    ## Get current depth\n",
    "    current_depth = numpy_volume.shape[0]\n",
    "    ## Compute depth factor\n",
    "    depth_factor = desired_depth / current_depth\n",
    "    \n",
    "    ## Resize across z-axis\n",
    "    # Rotate\n",
    "    numpy_volume = ndimage.rotate(numpy_volume, 90, reshape=False)\n",
    "    # Resize\n",
    "    volume = ndimage.zoom(numpy_volume, (depth_factor, 1, 1), order=1) # resize with spline interpolation of order 1\n",
    "    return volume"
   ]
  },
  {
   "cell_type": "code",
   "execution_count": 8,
   "id": "3f84b128",
   "metadata": {
    "execution": {
     "iopub.execute_input": "2022-10-23T12:26:32.424426Z",
     "iopub.status.busy": "2022-10-23T12:26:32.424140Z",
     "iopub.status.idle": "2022-10-23T12:26:32.430037Z",
     "shell.execute_reply": "2022-10-23T12:26:32.429043Z"
    },
    "papermill": {
     "duration": 0.014428,
     "end_time": "2022-10-23T12:26:32.432327",
     "exception": false,
     "start_time": "2022-10-23T12:26:32.417899",
     "status": "completed"
    },
    "tags": []
   },
   "outputs": [],
   "source": [
    "# Creating a function to parallelize most of the charge of loading the dicom files :\n",
    "\n",
    "def load_and_stack_dicom_parallel(scan_path: str):\n",
    "    \"\"\"Load all dicom files from a scan and stack them all in a numpy array\"\"\"\n",
    "    # Defining slice paths :\n",
    "    slice_paths = sorted(glob.glob(os.path.join(scan_path, \"*\")),\n",
    "                         key=lambda x: int(x.split('/')[-1].split(\".\")[0]))\n",
    "    \n",
    "    # Preprocessing slices :\n",
    "    images = Parallel(n_jobs=-1)(delayed(preprocessing_slice)(filename) for filename in slice_paths)\n",
    "    \n",
    "    # Returning stacked slices as a resized on depth (3rd dimension) volume :\n",
    "    return(tf.expand_dims(resize_depth(np.array(images)), axis=3))"
   ]
  },
  {
   "cell_type": "code",
   "execution_count": 9,
   "id": "f05d7447",
   "metadata": {
    "execution": {
     "iopub.execute_input": "2022-10-23T12:26:32.443800Z",
     "iopub.status.busy": "2022-10-23T12:26:32.443545Z",
     "iopub.status.idle": "2022-10-23T12:26:32.448626Z",
     "shell.execute_reply": "2022-10-23T12:26:32.447648Z"
    },
    "papermill": {
     "duration": 0.013531,
     "end_time": "2022-10-23T12:26:32.450903",
     "exception": false,
     "start_time": "2022-10-23T12:26:32.437372",
     "status": "completed"
    },
    "tags": []
   },
   "outputs": [],
   "source": [
    "# Function to create and save the 3D volumes corresponding to a scan :\n",
    "\n",
    "def save_3D_arrays(scan_path: str, output_path: str):\n",
    "    \"\"\"Create and save the 3D arrays corresponding to a scan\"\"\"\n",
    "    \n",
    "    # Preprocessing and creation :\n",
    "    volume = load_and_stack_dicom_parallel(scan_path=scan_path)\n",
    "    \n",
    "    # Saving the numpy array :\n",
    "    volume_file_name = output_path + scan_path.split('/')[-1] + '.npy'\n",
    "    np.save(volume_file_name, volume)\n",
    "    \n",
    "    # Deleting in memory :\n",
    "    del volume\n",
    "    \n",
    "    return None"
   ]
  },
  {
   "cell_type": "code",
   "execution_count": 10,
   "id": "b5e070e9",
   "metadata": {
    "execution": {
     "iopub.execute_input": "2022-10-23T12:26:32.462055Z",
     "iopub.status.busy": "2022-10-23T12:26:32.461803Z",
     "iopub.status.idle": "2022-10-23T12:27:00.493563Z",
     "shell.execute_reply": "2022-10-23T12:27:00.492541Z"
    },
    "papermill": {
     "duration": 28.039583,
     "end_time": "2022-10-23T12:27:00.495512",
     "exception": false,
     "start_time": "2022-10-23T12:26:32.455929",
     "status": "completed"
    },
    "tags": []
   },
   "outputs": [
    {
     "data": {
      "application/vnd.jupyter.widget-view+json": {
       "model_id": "45c5fbcf28c240c7982c3a5d65524f91",
       "version_major": 2,
       "version_minor": 0
      },
      "text/plain": [
       "  0%|          | 0/3 [00:00<?, ?it/s]"
      ]
     },
     "metadata": {},
     "output_type": "display_data"
    },
    {
     "name": "stderr",
     "output_type": "stream",
     "text": [
      "2022-10-23 12:26:38.609885: I tensorflow/stream_executor/cuda/cuda_gpu_executor.cc:937] successful NUMA node read from SysFS had negative value (-1), but there must be at least one NUMA node, so returning NUMA node zero\n",
      "2022-10-23 12:26:38.778681: I tensorflow/stream_executor/cuda/cuda_gpu_executor.cc:937] successful NUMA node read from SysFS had negative value (-1), but there must be at least one NUMA node, so returning NUMA node zero\n",
      "2022-10-23 12:26:38.779491: I tensorflow/stream_executor/cuda/cuda_gpu_executor.cc:937] successful NUMA node read from SysFS had negative value (-1), but there must be at least one NUMA node, so returning NUMA node zero\n",
      "2022-10-23 12:26:38.781780: I tensorflow/core/platform/cpu_feature_guard.cc:142] This TensorFlow binary is optimized with oneAPI Deep Neural Network Library (oneDNN) to use the following CPU instructions in performance-critical operations:  AVX2 AVX512F FMA\n",
      "To enable them in other operations, rebuild TensorFlow with the appropriate compiler flags.\n",
      "2022-10-23 12:26:38.782106: I tensorflow/stream_executor/cuda/cuda_gpu_executor.cc:937] successful NUMA node read from SysFS had negative value (-1), but there must be at least one NUMA node, so returning NUMA node zero\n",
      "2022-10-23 12:26:38.782812: I tensorflow/stream_executor/cuda/cuda_gpu_executor.cc:937] successful NUMA node read from SysFS had negative value (-1), but there must be at least one NUMA node, so returning NUMA node zero\n",
      "2022-10-23 12:26:38.783436: I tensorflow/stream_executor/cuda/cuda_gpu_executor.cc:937] successful NUMA node read from SysFS had negative value (-1), but there must be at least one NUMA node, so returning NUMA node zero\n",
      "2022-10-23 12:26:41.144589: I tensorflow/stream_executor/cuda/cuda_gpu_executor.cc:937] successful NUMA node read from SysFS had negative value (-1), but there must be at least one NUMA node, so returning NUMA node zero\n",
      "2022-10-23 12:26:41.145459: I tensorflow/stream_executor/cuda/cuda_gpu_executor.cc:937] successful NUMA node read from SysFS had negative value (-1), but there must be at least one NUMA node, so returning NUMA node zero\n",
      "2022-10-23 12:26:41.146142: I tensorflow/stream_executor/cuda/cuda_gpu_executor.cc:937] successful NUMA node read from SysFS had negative value (-1), but there must be at least one NUMA node, so returning NUMA node zero\n",
      "2022-10-23 12:26:41.146779: I tensorflow/core/common_runtime/gpu/gpu_device.cc:1510] Created device /job:localhost/replica:0/task:0/device:GPU:0 with 15401 MB memory:  -> device: 0, name: Tesla P100-PCIE-16GB, pci bus id: 0000:00:04.0, compute capability: 6.0\n"
     ]
    },
    {
     "data": {
      "text/plain": [
       "1161"
      ]
     },
     "execution_count": 10,
     "metadata": {},
     "output_type": "execute_result"
    }
   ],
   "source": [
    "# Creation of the preprocessed array volumes :\n",
    "\n",
    "for i in tqdm(range(len(test_images))):\n",
    "    case_path = TEST_IMAGES_PATH + test_images[i]\n",
    "    save_3D_arrays(case_path, TEST_OUTPUT_PATH)\n",
    "\n",
    "\n",
    "# Free up memory :\n",
    "\n",
    "gc.collect()"
   ]
  },
  {
   "cell_type": "markdown",
   "id": "58875da2",
   "metadata": {
    "papermill": {
     "duration": 0.005802,
     "end_time": "2022-10-23T12:27:00.507135",
     "exception": false,
     "start_time": "2022-10-23T12:27:00.501333",
     "status": "completed"
    },
    "tags": []
   },
   "source": [
    "# Inferences : Loading the trained model and making predictions :"
   ]
  },
  {
   "cell_type": "code",
   "execution_count": 11,
   "id": "9c417f94",
   "metadata": {
    "execution": {
     "iopub.execute_input": "2022-10-23T12:27:00.519383Z",
     "iopub.status.busy": "2022-10-23T12:27:00.518940Z",
     "iopub.status.idle": "2022-10-23T12:27:16.478594Z",
     "shell.execute_reply": "2022-10-23T12:27:16.477571Z"
    },
    "papermill": {
     "duration": 15.969099,
     "end_time": "2022-10-23T12:27:16.481650",
     "exception": false,
     "start_time": "2022-10-23T12:27:00.512551",
     "status": "completed"
    },
    "tags": []
   },
   "outputs": [],
   "source": [
    "# Loading the trained model :\n",
    "\n",
    "model = keras.models.load_model(os.path.join(MODEL_PATH,\"InceptionV3-a-64x64x64\"))"
   ]
  },
  {
   "cell_type": "code",
   "execution_count": 12,
   "id": "bb638aa6",
   "metadata": {
    "execution": {
     "iopub.execute_input": "2022-10-23T12:27:16.494634Z",
     "iopub.status.busy": "2022-10-23T12:27:16.494327Z",
     "iopub.status.idle": "2022-10-23T12:27:24.332668Z",
     "shell.execute_reply": "2022-10-23T12:27:24.331227Z"
    },
    "papermill": {
     "duration": 7.848239,
     "end_time": "2022-10-23T12:27:24.335834",
     "exception": false,
     "start_time": "2022-10-23T12:27:16.487595",
     "status": "completed"
    },
    "tags": []
   },
   "outputs": [
    {
     "name": "stderr",
     "output_type": "stream",
     "text": [
      "2022-10-23 12:27:16.555586: I tensorflow/compiler/mlir/mlir_graph_optimization_pass.cc:185] None of the MLIR Optimization Passes are enabled (registered 2)\n",
      "2022-10-23 12:27:18.571683: I tensorflow/stream_executor/cuda/cuda_dnn.cc:369] Loaded cuDNN version 8005\n"
     ]
    },
    {
     "name": "stdout",
     "output_type": "stream",
     "text": [
      "[[0.46677107 0.07674474 0.13378428 0.02854701 0.07287808 0.0864919\n",
      "  0.13052486 0.19334179]\n",
      " [0.4667692  0.07673637 0.13377388 0.02854234 0.07286994 0.08648307\n",
      "  0.1305145  0.19333133]\n",
      " [0.4667689  0.07673476 0.13377188 0.02854146 0.0728684  0.08648145\n",
      "  0.13051249 0.19332929]]\n"
     ]
    }
   ],
   "source": [
    "# Testing its predictions using a bacth sample :\n",
    "\n",
    "#sample_indexes = np.random.randint(0, len(val_IDs)-1, 40) # getting random indexes to take samples from the validation set\n",
    "batch_x = np.empty((len(test_images), 64, 64, 64, 1))\n",
    "for i_slice in range(0, len(test_images)):\n",
    "    batch_x[i_slice,] = np.load(os.path.join(TEST_OUTPUT_PATH, os.listdir(TEST_OUTPUT_PATH)[i_slice]))\n",
    "\n",
    "predictions = model.predict(batch_x)\n",
    "print(predictions)"
   ]
  },
  {
   "cell_type": "markdown",
   "id": "77aff2cf",
   "metadata": {
    "papermill": {
     "duration": 0.008977,
     "end_time": "2022-10-23T12:27:24.355416",
     "exception": false,
     "start_time": "2022-10-23T12:27:24.346439",
     "status": "completed"
    },
    "tags": []
   },
   "source": [
    "# Creating submission :"
   ]
  },
  {
   "cell_type": "code",
   "execution_count": 13,
   "id": "c2b47d25",
   "metadata": {
    "execution": {
     "iopub.execute_input": "2022-10-23T12:27:24.375805Z",
     "iopub.status.busy": "2022-10-23T12:27:24.375310Z",
     "iopub.status.idle": "2022-10-23T12:27:24.386772Z",
     "shell.execute_reply": "2022-10-23T12:27:24.385923Z"
    },
    "papermill": {
     "duration": 0.026232,
     "end_time": "2022-10-23T12:27:24.390806",
     "exception": false,
     "start_time": "2022-10-23T12:27:24.364574",
     "status": "completed"
    },
    "tags": []
   },
   "outputs": [
    {
     "data": {
      "text/plain": [
       "array([[0.07674474, 0.13378428, 0.02854701, 0.07287808, 0.0864919 ,\n",
       "        0.13052486, 0.19334179, 0.46677107],\n",
       "       [0.07673637, 0.13377388, 0.02854234, 0.07286994, 0.08648307,\n",
       "        0.1305145 , 0.19333133, 0.4667692 ],\n",
       "       [0.07673476, 0.13377188, 0.02854146, 0.0728684 , 0.08648145,\n",
       "        0.13051249, 0.19332929, 0.4667689 ]], dtype=float32)"
      ]
     },
     "execution_count": 13,
     "metadata": {},
     "output_type": "execute_result"
    }
   ],
   "source": [
    "# Putting predictions outputs in the right order for the submission file ('patient_overall' at the end of each sequence) :\n",
    "\n",
    "submission = predictions.copy()\n",
    "\n",
    "for sequence_index in range(submission.shape[0]):\n",
    "    submission[sequence_index] = np.concatenate((submission[sequence_index][1:], [submission[sequence_index][0]]))\n",
    "    \n",
    "submission"
   ]
  },
  {
   "cell_type": "code",
   "execution_count": 14,
   "id": "7166d247",
   "metadata": {
    "execution": {
     "iopub.execute_input": "2022-10-23T12:27:24.410688Z",
     "iopub.status.busy": "2022-10-23T12:27:24.410243Z",
     "iopub.status.idle": "2022-10-23T12:27:24.440794Z",
     "shell.execute_reply": "2022-10-23T12:27:24.439845Z"
    },
    "papermill": {
     "duration": 0.043038,
     "end_time": "2022-10-23T12:27:24.443357",
     "exception": false,
     "start_time": "2022-10-23T12:27:24.400319",
     "status": "completed"
    },
    "tags": []
   },
   "outputs": [
    {
     "data": {
      "text/html": [
       "<div>\n",
       "<style scoped>\n",
       "    .dataframe tbody tr th:only-of-type {\n",
       "        vertical-align: middle;\n",
       "    }\n",
       "\n",
       "    .dataframe tbody tr th {\n",
       "        vertical-align: top;\n",
       "    }\n",
       "\n",
       "    .dataframe thead th {\n",
       "        text-align: right;\n",
       "    }\n",
       "</style>\n",
       "<table border=\"1\" class=\"dataframe\">\n",
       "  <thead>\n",
       "    <tr style=\"text-align: right;\">\n",
       "      <th></th>\n",
       "      <th>row_id</th>\n",
       "      <th>fractured</th>\n",
       "    </tr>\n",
       "  </thead>\n",
       "  <tbody>\n",
       "    <tr>\n",
       "      <th>0</th>\n",
       "      <td>1.2.826.0.1.3680043.22327_C1</td>\n",
       "      <td>0.076745</td>\n",
       "    </tr>\n",
       "    <tr>\n",
       "      <th>1</th>\n",
       "      <td>1.2.826.0.1.3680043.22327_C2</td>\n",
       "      <td>0.133784</td>\n",
       "    </tr>\n",
       "    <tr>\n",
       "      <th>2</th>\n",
       "      <td>1.2.826.0.1.3680043.22327_C3</td>\n",
       "      <td>0.028547</td>\n",
       "    </tr>\n",
       "    <tr>\n",
       "      <th>3</th>\n",
       "      <td>1.2.826.0.1.3680043.22327_C4</td>\n",
       "      <td>0.072878</td>\n",
       "    </tr>\n",
       "    <tr>\n",
       "      <th>4</th>\n",
       "      <td>1.2.826.0.1.3680043.22327_C5</td>\n",
       "      <td>0.086492</td>\n",
       "    </tr>\n",
       "    <tr>\n",
       "      <th>5</th>\n",
       "      <td>1.2.826.0.1.3680043.22327_C6</td>\n",
       "      <td>0.130525</td>\n",
       "    </tr>\n",
       "    <tr>\n",
       "      <th>6</th>\n",
       "      <td>1.2.826.0.1.3680043.22327_C7</td>\n",
       "      <td>0.193342</td>\n",
       "    </tr>\n",
       "    <tr>\n",
       "      <th>7</th>\n",
       "      <td>1.2.826.0.1.3680043.22327_patient_overall</td>\n",
       "      <td>0.466771</td>\n",
       "    </tr>\n",
       "    <tr>\n",
       "      <th>8</th>\n",
       "      <td>1.2.826.0.1.3680043.25399_C1</td>\n",
       "      <td>0.076736</td>\n",
       "    </tr>\n",
       "    <tr>\n",
       "      <th>9</th>\n",
       "      <td>1.2.826.0.1.3680043.25399_C2</td>\n",
       "      <td>0.133774</td>\n",
       "    </tr>\n",
       "    <tr>\n",
       "      <th>10</th>\n",
       "      <td>1.2.826.0.1.3680043.25399_C3</td>\n",
       "      <td>0.028542</td>\n",
       "    </tr>\n",
       "    <tr>\n",
       "      <th>11</th>\n",
       "      <td>1.2.826.0.1.3680043.25399_C4</td>\n",
       "      <td>0.072870</td>\n",
       "    </tr>\n",
       "    <tr>\n",
       "      <th>12</th>\n",
       "      <td>1.2.826.0.1.3680043.25399_C5</td>\n",
       "      <td>0.086483</td>\n",
       "    </tr>\n",
       "    <tr>\n",
       "      <th>13</th>\n",
       "      <td>1.2.826.0.1.3680043.25399_C6</td>\n",
       "      <td>0.130515</td>\n",
       "    </tr>\n",
       "    <tr>\n",
       "      <th>14</th>\n",
       "      <td>1.2.826.0.1.3680043.25399_C7</td>\n",
       "      <td>0.193331</td>\n",
       "    </tr>\n",
       "    <tr>\n",
       "      <th>15</th>\n",
       "      <td>1.2.826.0.1.3680043.25399_patient_overall</td>\n",
       "      <td>0.466769</td>\n",
       "    </tr>\n",
       "    <tr>\n",
       "      <th>16</th>\n",
       "      <td>1.2.826.0.1.3680043.5876_C1</td>\n",
       "      <td>0.076735</td>\n",
       "    </tr>\n",
       "    <tr>\n",
       "      <th>17</th>\n",
       "      <td>1.2.826.0.1.3680043.5876_C2</td>\n",
       "      <td>0.133772</td>\n",
       "    </tr>\n",
       "    <tr>\n",
       "      <th>18</th>\n",
       "      <td>1.2.826.0.1.3680043.5876_C3</td>\n",
       "      <td>0.028541</td>\n",
       "    </tr>\n",
       "    <tr>\n",
       "      <th>19</th>\n",
       "      <td>1.2.826.0.1.3680043.5876_C4</td>\n",
       "      <td>0.072868</td>\n",
       "    </tr>\n",
       "    <tr>\n",
       "      <th>20</th>\n",
       "      <td>1.2.826.0.1.3680043.5876_C5</td>\n",
       "      <td>0.086481</td>\n",
       "    </tr>\n",
       "    <tr>\n",
       "      <th>21</th>\n",
       "      <td>1.2.826.0.1.3680043.5876_C6</td>\n",
       "      <td>0.130512</td>\n",
       "    </tr>\n",
       "    <tr>\n",
       "      <th>22</th>\n",
       "      <td>1.2.826.0.1.3680043.5876_C7</td>\n",
       "      <td>0.193329</td>\n",
       "    </tr>\n",
       "    <tr>\n",
       "      <th>23</th>\n",
       "      <td>1.2.826.0.1.3680043.5876_patient_overall</td>\n",
       "      <td>0.466769</td>\n",
       "    </tr>\n",
       "  </tbody>\n",
       "</table>\n",
       "</div>"
      ],
      "text/plain": [
       "                                       row_id  fractured\n",
       "0                1.2.826.0.1.3680043.22327_C1   0.076745\n",
       "1                1.2.826.0.1.3680043.22327_C2   0.133784\n",
       "2                1.2.826.0.1.3680043.22327_C3   0.028547\n",
       "3                1.2.826.0.1.3680043.22327_C4   0.072878\n",
       "4                1.2.826.0.1.3680043.22327_C5   0.086492\n",
       "5                1.2.826.0.1.3680043.22327_C6   0.130525\n",
       "6                1.2.826.0.1.3680043.22327_C7   0.193342\n",
       "7   1.2.826.0.1.3680043.22327_patient_overall   0.466771\n",
       "8                1.2.826.0.1.3680043.25399_C1   0.076736\n",
       "9                1.2.826.0.1.3680043.25399_C2   0.133774\n",
       "10               1.2.826.0.1.3680043.25399_C3   0.028542\n",
       "11               1.2.826.0.1.3680043.25399_C4   0.072870\n",
       "12               1.2.826.0.1.3680043.25399_C5   0.086483\n",
       "13               1.2.826.0.1.3680043.25399_C6   0.130515\n",
       "14               1.2.826.0.1.3680043.25399_C7   0.193331\n",
       "15  1.2.826.0.1.3680043.25399_patient_overall   0.466769\n",
       "16                1.2.826.0.1.3680043.5876_C1   0.076735\n",
       "17                1.2.826.0.1.3680043.5876_C2   0.133772\n",
       "18                1.2.826.0.1.3680043.5876_C3   0.028541\n",
       "19                1.2.826.0.1.3680043.5876_C4   0.072868\n",
       "20                1.2.826.0.1.3680043.5876_C5   0.086481\n",
       "21                1.2.826.0.1.3680043.5876_C6   0.130512\n",
       "22                1.2.826.0.1.3680043.5876_C7   0.193329\n",
       "23   1.2.826.0.1.3680043.5876_patient_overall   0.466769"
      ]
     },
     "execution_count": 14,
     "metadata": {},
     "output_type": "execute_result"
    }
   ],
   "source": [
    "## Creating dataframe :\n",
    "\n",
    "# Putting every predictions output as a single vector (corresponding to the column 'fractured' in the dataframe) :\n",
    "\n",
    "fractured_col_values = np.concatenate(submission.copy())\n",
    "    \n",
    "# Creating the 'row_id' column values :\n",
    "\n",
    "row_id_values = []\n",
    "for ID in test_images:\n",
    "    row_id_values.append(ID+'_C1')\n",
    "    row_id_values.append(ID+'_C2')\n",
    "    row_id_values.append(ID+'_C3')\n",
    "    row_id_values.append(ID+'_C4')\n",
    "    row_id_values.append(ID+'_C5')\n",
    "    row_id_values.append(ID+'_C6')\n",
    "    row_id_values.append(ID+'_C7')\n",
    "    row_id_values.append(ID+'_patient_overall')\n",
    "    \n",
    "# Creating the dataframe :\n",
    "\n",
    "submissions_df = pd.DataFrame({\"row_id\": row_id_values, \"fractured\": fractured_col_values})\n",
    "\n",
    "submissions_df"
   ]
  },
  {
   "cell_type": "code",
   "execution_count": 15,
   "id": "54d94f57",
   "metadata": {
    "execution": {
     "iopub.execute_input": "2022-10-23T12:27:24.463994Z",
     "iopub.status.busy": "2022-10-23T12:27:24.463567Z",
     "iopub.status.idle": "2022-10-23T12:27:24.471130Z",
     "shell.execute_reply": "2022-10-23T12:27:24.470230Z"
    },
    "papermill": {
     "duration": 0.021528,
     "end_time": "2022-10-23T12:27:24.474529",
     "exception": false,
     "start_time": "2022-10-23T12:27:24.453001",
     "status": "completed"
    },
    "tags": []
   },
   "outputs": [],
   "source": [
    "# Uploading submission csv file :\n",
    "\n",
    "submissions_df.to_csv(\"submission.csv\", index=False)"
   ]
  }
 ],
 "metadata": {
  "kernelspec": {
   "display_name": "Python 3",
   "language": "python",
   "name": "python3"
  },
  "language_info": {
   "codemirror_mode": {
    "name": "ipython",
    "version": 3
   },
   "file_extension": ".py",
   "mimetype": "text/x-python",
   "name": "python",
   "nbconvert_exporter": "python",
   "pygments_lexer": "ipython3",
   "version": "3.7.12"
  },
  "papermill": {
   "default_parameters": {},
   "duration": 112.667767,
   "end_time": "2022-10-23T12:27:27.305073",
   "environment_variables": {},
   "exception": null,
   "input_path": "__notebook__.ipynb",
   "output_path": "__notebook__.ipynb",
   "parameters": {},
   "start_time": "2022-10-23T12:25:34.637306",
   "version": "2.3.4"
  },
  "widgets": {
   "application/vnd.jupyter.widget-state+json": {
    "state": {
     "16d55a0df1ee4598aa76ff966bc38b94": {
      "model_module": "@jupyter-widgets/controls",
      "model_module_version": "1.5.0",
      "model_name": "FloatProgressModel",
      "state": {
       "_dom_classes": [],
       "_model_module": "@jupyter-widgets/controls",
       "_model_module_version": "1.5.0",
       "_model_name": "FloatProgressModel",
       "_view_count": null,
       "_view_module": "@jupyter-widgets/controls",
       "_view_module_version": "1.5.0",
       "_view_name": "ProgressView",
       "bar_style": "success",
       "description": "",
       "description_tooltip": null,
       "layout": "IPY_MODEL_5542696815cd48208d5b5c0e1583bf6d",
       "max": 3.0,
       "min": 0.0,
       "orientation": "horizontal",
       "style": "IPY_MODEL_2824494ff3154957a711c97d18be12ea",
       "value": 3.0
      }
     },
     "2824494ff3154957a711c97d18be12ea": {
      "model_module": "@jupyter-widgets/controls",
      "model_module_version": "1.5.0",
      "model_name": "ProgressStyleModel",
      "state": {
       "_model_module": "@jupyter-widgets/controls",
       "_model_module_version": "1.5.0",
       "_model_name": "ProgressStyleModel",
       "_view_count": null,
       "_view_module": "@jupyter-widgets/base",
       "_view_module_version": "1.2.0",
       "_view_name": "StyleView",
       "bar_color": null,
       "description_width": ""
      }
     },
     "45c5fbcf28c240c7982c3a5d65524f91": {
      "model_module": "@jupyter-widgets/controls",
      "model_module_version": "1.5.0",
      "model_name": "HBoxModel",
      "state": {
       "_dom_classes": [],
       "_model_module": "@jupyter-widgets/controls",
       "_model_module_version": "1.5.0",
       "_model_name": "HBoxModel",
       "_view_count": null,
       "_view_module": "@jupyter-widgets/controls",
       "_view_module_version": "1.5.0",
       "_view_name": "HBoxView",
       "box_style": "",
       "children": [
        "IPY_MODEL_9dbc29f6f022425d9df73cb6e68293a7",
        "IPY_MODEL_16d55a0df1ee4598aa76ff966bc38b94",
        "IPY_MODEL_df4a0022707a4b258a8d0dd92aeaa9cd"
       ],
       "layout": "IPY_MODEL_c5c4cce5e7ac426abd7616b6da55caba"
      }
     },
     "466d48463a8748b38f35d6e881a5a401": {
      "model_module": "@jupyter-widgets/controls",
      "model_module_version": "1.5.0",
      "model_name": "DescriptionStyleModel",
      "state": {
       "_model_module": "@jupyter-widgets/controls",
       "_model_module_version": "1.5.0",
       "_model_name": "DescriptionStyleModel",
       "_view_count": null,
       "_view_module": "@jupyter-widgets/base",
       "_view_module_version": "1.2.0",
       "_view_name": "StyleView",
       "description_width": ""
      }
     },
     "5542696815cd48208d5b5c0e1583bf6d": {
      "model_module": "@jupyter-widgets/base",
      "model_module_version": "1.2.0",
      "model_name": "LayoutModel",
      "state": {
       "_model_module": "@jupyter-widgets/base",
       "_model_module_version": "1.2.0",
       "_model_name": "LayoutModel",
       "_view_count": null,
       "_view_module": "@jupyter-widgets/base",
       "_view_module_version": "1.2.0",
       "_view_name": "LayoutView",
       "align_content": null,
       "align_items": null,
       "align_self": null,
       "border": null,
       "bottom": null,
       "display": null,
       "flex": null,
       "flex_flow": null,
       "grid_area": null,
       "grid_auto_columns": null,
       "grid_auto_flow": null,
       "grid_auto_rows": null,
       "grid_column": null,
       "grid_gap": null,
       "grid_row": null,
       "grid_template_areas": null,
       "grid_template_columns": null,
       "grid_template_rows": null,
       "height": null,
       "justify_content": null,
       "justify_items": null,
       "left": null,
       "margin": null,
       "max_height": null,
       "max_width": null,
       "min_height": null,
       "min_width": null,
       "object_fit": null,
       "object_position": null,
       "order": null,
       "overflow": null,
       "overflow_x": null,
       "overflow_y": null,
       "padding": null,
       "right": null,
       "top": null,
       "visibility": null,
       "width": null
      }
     },
     "6c57fd68da69406a851468600a0d2436": {
      "model_module": "@jupyter-widgets/controls",
      "model_module_version": "1.5.0",
      "model_name": "DescriptionStyleModel",
      "state": {
       "_model_module": "@jupyter-widgets/controls",
       "_model_module_version": "1.5.0",
       "_model_name": "DescriptionStyleModel",
       "_view_count": null,
       "_view_module": "@jupyter-widgets/base",
       "_view_module_version": "1.2.0",
       "_view_name": "StyleView",
       "description_width": ""
      }
     },
     "80bb1e0d84394777b238edad92140606": {
      "model_module": "@jupyter-widgets/base",
      "model_module_version": "1.2.0",
      "model_name": "LayoutModel",
      "state": {
       "_model_module": "@jupyter-widgets/base",
       "_model_module_version": "1.2.0",
       "_model_name": "LayoutModel",
       "_view_count": null,
       "_view_module": "@jupyter-widgets/base",
       "_view_module_version": "1.2.0",
       "_view_name": "LayoutView",
       "align_content": null,
       "align_items": null,
       "align_self": null,
       "border": null,
       "bottom": null,
       "display": null,
       "flex": null,
       "flex_flow": null,
       "grid_area": null,
       "grid_auto_columns": null,
       "grid_auto_flow": null,
       "grid_auto_rows": null,
       "grid_column": null,
       "grid_gap": null,
       "grid_row": null,
       "grid_template_areas": null,
       "grid_template_columns": null,
       "grid_template_rows": null,
       "height": null,
       "justify_content": null,
       "justify_items": null,
       "left": null,
       "margin": null,
       "max_height": null,
       "max_width": null,
       "min_height": null,
       "min_width": null,
       "object_fit": null,
       "object_position": null,
       "order": null,
       "overflow": null,
       "overflow_x": null,
       "overflow_y": null,
       "padding": null,
       "right": null,
       "top": null,
       "visibility": null,
       "width": null
      }
     },
     "81325b1f9dbd4ea195f9f3b430b0b37a": {
      "model_module": "@jupyter-widgets/base",
      "model_module_version": "1.2.0",
      "model_name": "LayoutModel",
      "state": {
       "_model_module": "@jupyter-widgets/base",
       "_model_module_version": "1.2.0",
       "_model_name": "LayoutModel",
       "_view_count": null,
       "_view_module": "@jupyter-widgets/base",
       "_view_module_version": "1.2.0",
       "_view_name": "LayoutView",
       "align_content": null,
       "align_items": null,
       "align_self": null,
       "border": null,
       "bottom": null,
       "display": null,
       "flex": null,
       "flex_flow": null,
       "grid_area": null,
       "grid_auto_columns": null,
       "grid_auto_flow": null,
       "grid_auto_rows": null,
       "grid_column": null,
       "grid_gap": null,
       "grid_row": null,
       "grid_template_areas": null,
       "grid_template_columns": null,
       "grid_template_rows": null,
       "height": null,
       "justify_content": null,
       "justify_items": null,
       "left": null,
       "margin": null,
       "max_height": null,
       "max_width": null,
       "min_height": null,
       "min_width": null,
       "object_fit": null,
       "object_position": null,
       "order": null,
       "overflow": null,
       "overflow_x": null,
       "overflow_y": null,
       "padding": null,
       "right": null,
       "top": null,
       "visibility": null,
       "width": null
      }
     },
     "9dbc29f6f022425d9df73cb6e68293a7": {
      "model_module": "@jupyter-widgets/controls",
      "model_module_version": "1.5.0",
      "model_name": "HTMLModel",
      "state": {
       "_dom_classes": [],
       "_model_module": "@jupyter-widgets/controls",
       "_model_module_version": "1.5.0",
       "_model_name": "HTMLModel",
       "_view_count": null,
       "_view_module": "@jupyter-widgets/controls",
       "_view_module_version": "1.5.0",
       "_view_name": "HTMLView",
       "description": "",
       "description_tooltip": null,
       "layout": "IPY_MODEL_80bb1e0d84394777b238edad92140606",
       "placeholder": "​",
       "style": "IPY_MODEL_466d48463a8748b38f35d6e881a5a401",
       "value": "100%"
      }
     },
     "c5c4cce5e7ac426abd7616b6da55caba": {
      "model_module": "@jupyter-widgets/base",
      "model_module_version": "1.2.0",
      "model_name": "LayoutModel",
      "state": {
       "_model_module": "@jupyter-widgets/base",
       "_model_module_version": "1.2.0",
       "_model_name": "LayoutModel",
       "_view_count": null,
       "_view_module": "@jupyter-widgets/base",
       "_view_module_version": "1.2.0",
       "_view_name": "LayoutView",
       "align_content": null,
       "align_items": null,
       "align_self": null,
       "border": null,
       "bottom": null,
       "display": null,
       "flex": null,
       "flex_flow": null,
       "grid_area": null,
       "grid_auto_columns": null,
       "grid_auto_flow": null,
       "grid_auto_rows": null,
       "grid_column": null,
       "grid_gap": null,
       "grid_row": null,
       "grid_template_areas": null,
       "grid_template_columns": null,
       "grid_template_rows": null,
       "height": null,
       "justify_content": null,
       "justify_items": null,
       "left": null,
       "margin": null,
       "max_height": null,
       "max_width": null,
       "min_height": null,
       "min_width": null,
       "object_fit": null,
       "object_position": null,
       "order": null,
       "overflow": null,
       "overflow_x": null,
       "overflow_y": null,
       "padding": null,
       "right": null,
       "top": null,
       "visibility": null,
       "width": null
      }
     },
     "df4a0022707a4b258a8d0dd92aeaa9cd": {
      "model_module": "@jupyter-widgets/controls",
      "model_module_version": "1.5.0",
      "model_name": "HTMLModel",
      "state": {
       "_dom_classes": [],
       "_model_module": "@jupyter-widgets/controls",
       "_model_module_version": "1.5.0",
       "_model_name": "HTMLModel",
       "_view_count": null,
       "_view_module": "@jupyter-widgets/controls",
       "_view_module_version": "1.5.0",
       "_view_name": "HTMLView",
       "description": "",
       "description_tooltip": null,
       "layout": "IPY_MODEL_81325b1f9dbd4ea195f9f3b430b0b37a",
       "placeholder": "​",
       "style": "IPY_MODEL_6c57fd68da69406a851468600a0d2436",
       "value": " 3/3 [00:27&lt;00:00,  8.85s/it]"
      }
     }
    },
    "version_major": 2,
    "version_minor": 0
   }
  }
 },
 "nbformat": 4,
 "nbformat_minor": 5
}
